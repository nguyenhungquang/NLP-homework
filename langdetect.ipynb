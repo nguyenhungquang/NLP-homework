{
  "nbformat": 4,
  "nbformat_minor": 0,
  "metadata": {
    "kernelspec": {
      "name": "python3",
      "display_name": "Python 3"
    },
    "language_info": {
      "codemirror_mode": {
        "name": "ipython",
        "version": 3
      },
      "file_extension": ".py",
      "mimetype": "text/x-python",
      "name": "python",
      "nbconvert_exporter": "python",
      "pygments_lexer": "ipython3",
      "version": "3.7.4"
    },
    "colab": {
      "name": "langdetect.ipynb",
      "provenance": [],
      "collapsed_sections": [],
      "machine_shape": "hm",
      "include_colab_link": true
    },
    "accelerator": "TPU"
  },
  "cells": [
    {
      "cell_type": "markdown",
      "metadata": {
        "id": "view-in-github",
        "colab_type": "text"
      },
      "source": [
        "<a href=\"https://colab.research.google.com/github/nguyenhungquang/NLPhw/blob/master/langdetect.ipynb\" target=\"_parent\"><img src=\"https://colab.research.google.com/assets/colab-badge.svg\" alt=\"Open In Colab\"/></a>"
      ]
    },
    {
      "cell_type": "code",
      "metadata": {
        "id": "a-qbO8zWU0Pw",
        "colab_type": "code",
        "outputId": "41722808-f14b-4321-8b17-4d6830705111",
        "colab": {
          "base_uri": "https://localhost:8080/",
          "height": 68
        }
      },
      "source": [
        "from sklearn.naive_bayes import MultinomialNB\n",
        "import numpy as np\n",
        "from nltk.tokenize import sent_tokenize\n",
        "import pandas as pd\n",
        "import os\n",
        "from sklearn.feature_extraction.text import TfidfVectorizer\n",
        "from sklearn.pipeline import Pipeline\n",
        "from sklearn.metrics import accuracy_score\n",
        "import codecs\n",
        "import nltk\n",
        "nltk.download('punkt')"
      ],
      "execution_count": 1,
      "outputs": [
        {
          "output_type": "stream",
          "text": [
            "[nltk_data] Downloading package punkt to /root/nltk_data...\n",
            "[nltk_data]   Package punkt is already up-to-date!\n"
          ],
          "name": "stdout"
        },
        {
          "output_type": "execute_result",
          "data": {
            "text/plain": [
              "True"
            ]
          },
          "metadata": {
            "tags": []
          },
          "execution_count": 1
        }
      ]
    },
    {
      "cell_type": "code",
      "metadata": {
        "id": "wNE55XhVU0P6",
        "colab_type": "code",
        "colab": {}
      },
      "source": [
        "def readData(path):\n",
        "    #dataArray=[]\n",
        "    with codecs.open(path,'r','utf-8') as f:\n",
        "        dataArray=f.readlines()\n",
        "        dataArray=[x.strip() for x in dataArray]\n",
        "    #print (len(dataArray))\n",
        "    return dataArray\n",
        "def tokenize(text):\n",
        "    sentList=[x for x in sent_tokenize(text)]\n",
        "    for i,x in enumerate(sentList):\n",
        "        textLen=len(x.split(\" \"))\n",
        "        if i>0 and textLen<3:\n",
        "            sentList[i-1:i+1]=[sentList[i-1]+sentList[i]]\n",
        "        \"\"\"\n",
        "        if textLen>30:\n",
        "            sentList[i:i+1]=[x[:15],x[15:]]\n",
        "        \"\"\"\n",
        "    return (sentList,len(sentList))\n",
        "    #return ([x for x in sent_tokenize(text)],len(sent_tokenize(text)))\n",
        "def formatData(sentencePath,labelPath,size,tokenized):\n",
        "    sentArray=readData(sentencePath)\n",
        "    labelArray=readData(labelPath)\n",
        "    size=min(size,len(sentArray))\n",
        "    sentArray=sentArray[:size]\n",
        "    labelArray=labelArray[:size]\n",
        "    if tokenized:\n",
        "        groupLen=0\n",
        "        for i,x in enumerate(sentArray):\n",
        "            sentArray[i:i+1],groupLen=tokenize(x)\n",
        "            labelArray[i:i+1]=[labelArray[i]]*groupLen\n",
        "        newSize=len(sentArray)\n",
        "    else:\n",
        "        newSize=size\n",
        "    f=np.memmap(\"data.dat\",dtype=object,mode='w+',shape=(2,newSize))\n",
        "    f[0]=sentArray[:newSize]\n",
        "    f[1]=labelArray[:newSize]\n",
        "    f=f.T\n",
        "    #print (f[0])\n",
        "    #for i,x in enumerate(f):\n",
        "    #    f[i:i+1]=tokenize(x[0],x[1])\n",
        "    #f=[[x,t[1]] for t in f for x in sent_tokenize(t[0])]\n",
        "    print (len(f))\n",
        "    dfTable=pd.DataFrame(f)\n",
        "    del f\n",
        "    dfTable.columns=['text','label']\n",
        "    return dfTable"
      ],
      "execution_count": 0,
      "outputs": []
    },
    {
      "cell_type": "code",
      "metadata": {
        "id": "n_lwHgskU0QA",
        "colab_type": "code",
        "outputId": "b5cd5026-b51a-42b0-9a8c-8a2feec92495",
        "colab": {
          "base_uri": "https://localhost:8080/",
          "height": 323
        }
      },
      "source": [
        "sentPath=\"x_train.txt\"\n",
        "labelPath=\"y_train.txt\"\n",
        "dfTable=formatData(sentPath,labelPath,100000,False)\n",
        "textTrain=dfTable['text']\n",
        "labelTrain=dfTable['label']\n",
        "tfidf_vect = TfidfVectorizer(analyzer='char', ngram_range=(1,4))\n",
        "model = MultinomialNB()\n",
        "text_clf = Pipeline([('tfidf', tfidf_vect),\n",
        "                    ('clf', model),\n",
        "                    ])\n",
        "text_clf.fit(textTrain,labelTrain)"
      ],
      "execution_count": 3,
      "outputs": [
        {
          "output_type": "stream",
          "text": [
            "100000\n"
          ],
          "name": "stdout"
        },
        {
          "output_type": "execute_result",
          "data": {
            "text/plain": [
              "Pipeline(memory=None,\n",
              "         steps=[('tfidf',\n",
              "                 TfidfVectorizer(analyzer='char', binary=False,\n",
              "                                 decode_error='strict',\n",
              "                                 dtype=<class 'numpy.float64'>,\n",
              "                                 encoding='utf-8', input='content',\n",
              "                                 lowercase=True, max_df=1.0, max_features=None,\n",
              "                                 min_df=1, ngram_range=(1, 4), norm='l2',\n",
              "                                 preprocessor=None, smooth_idf=True,\n",
              "                                 stop_words=None, strip_accents=None,\n",
              "                                 sublinear_tf=False,\n",
              "                                 token_pattern='(?u)\\\\b\\\\w\\\\w+\\\\b',\n",
              "                                 tokenizer=None, use_idf=True,\n",
              "                                 vocabulary=None)),\n",
              "                ('clf',\n",
              "                 MultinomialNB(alpha=1.0, class_prior=None, fit_prior=True))],\n",
              "         verbose=False)"
            ]
          },
          "metadata": {
            "tags": []
          },
          "execution_count": 3
        }
      ]
    },
    {
      "cell_type": "code",
      "metadata": {
        "id": "nr5mFE9tU0QH",
        "colab_type": "code",
        "colab": {
          "base_uri": "https://localhost:8080/",
          "height": 51
        },
        "outputId": "8c2be546-19a1-422c-c3b2-84bc499fc645"
      },
      "source": [
        "xTestPath=\"x_test.txt\"\n",
        "yTestPath=\"y_test.txt\"\n",
        "testTable=formatData(xTestPath,yTestPath,1000,False)\n",
        "textTest=testTable['text']\n",
        "labelTest=testTable['label']\n",
        "predictions=text_clf.predict(textTest)\n",
        "accuracy_score(labelTest,predictions)"
      ],
      "execution_count": 7,
      "outputs": [
        {
          "output_type": "stream",
          "text": [
            "1000\n"
          ],
          "name": "stdout"
        },
        {
          "output_type": "execute_result",
          "data": {
            "text/plain": [
              "0.941"
            ]
          },
          "metadata": {
            "tags": []
          },
          "execution_count": 7
        }
      ]
    }
  ]
}